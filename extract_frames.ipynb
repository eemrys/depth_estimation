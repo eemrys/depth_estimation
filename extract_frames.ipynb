{
 "cells": [
  {
   "cell_type": "code",
   "execution_count": 5,
   "id": "devoted-cycle",
   "metadata": {},
   "outputs": [],
   "source": [
    "import cv2\n",
    "import os\n",
    "import ffmpeg"
   ]
  },
  {
   "cell_type": "code",
   "execution_count": 6,
   "id": "asian-renaissance",
   "metadata": {},
   "outputs": [],
   "source": [
    "def correct_rotation(frame, rotateCode):\n",
    "    return cv2.rotate(frame, rotateCode) "
   ]
  },
  {
   "cell_type": "code",
   "execution_count": null,
   "id": "remarkable-beatles",
   "metadata": {},
   "outputs": [],
   "source": [
    "out_path = 'datasets/3rdfloor/images'\n",
    "video_path = 'datasets/3rdfloor/IMG_0397.MOV'"
   ]
  },
  {
   "cell_type": "code",
   "execution_count": 4,
   "id": "central-bloom",
   "metadata": {},
   "outputs": [],
   "source": [
    "os.mkdir(out_path)\n",
    "\n",
    "vs = cv2.VideoCapture(video_path)\n",
    "\n",
    "rotateCode = cv2.ROTATE_90_CLOCKWISE\n",
    "# rotateCode = None\n",
    "\n",
    "i = 0\n",
    "while True:\n",
    "    grabbed, frame = vs.read()\n",
    "    if not grabbed:\n",
    "        break\n",
    "\n",
    "    if rotateCode is not None:\n",
    "        frame = correct_rotation(frame, rotateCode)\n",
    "        \n",
    "    if i % 3 == 0:\n",
    "        cv2.imwrite(os.path.join(out_path,f'frame{i:06d}.jpg'), frame)\n",
    "    i+=1"
   ]
  }
 ],
 "metadata": {
  "kernelspec": {
   "display_name": "Python 3",
   "language": "python",
   "name": "python3"
  },
  "language_info": {
   "codemirror_mode": {
    "name": "ipython",
    "version": 3
   },
   "file_extension": ".py",
   "mimetype": "text/x-python",
   "name": "python",
   "nbconvert_exporter": "python",
   "pygments_lexer": "ipython3",
   "version": "3.9.4"
  }
 },
 "nbformat": 4,
 "nbformat_minor": 5
}

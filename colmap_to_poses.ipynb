{
 "cells": [
  {
   "cell_type": "code",
   "execution_count": 1,
   "id": "fatal-groove",
   "metadata": {},
   "outputs": [],
   "source": [
    "!mkdir datasets/3rdfloor/sparse_txt\n",
    "!colmap model_converter --input_path datasets/3rdfloor/sparse/0 \\\n",
    "                        --output_path datasets/3rdfloor/sparse_txt --output_type TXT"
   ]
  },
  {
   "cell_type": "code",
   "execution_count": 2,
   "id": "automated-tsunami",
   "metadata": {},
   "outputs": [],
   "source": [
    "base_path = 'datasets/3rdfloor'"
   ]
  },
  {
   "cell_type": "code",
   "execution_count": 3,
   "id": "civil-crash",
   "metadata": {},
   "outputs": [],
   "source": [
    "from scipy.spatial.transform import Rotation as R\n",
    "import numpy as np\n",
    "import os\n",
    "from tqdm import trange"
   ]
  },
  {
   "cell_type": "code",
   "execution_count": 4,
   "id": "unexpected-turner",
   "metadata": {},
   "outputs": [
    {
     "name": "stderr",
     "output_type": "stream",
     "text": [
      "100%|██████████| 1650/1650 [00:00<00:00, 4600.89it/s]\n"
     ]
    }
   ],
   "source": [
    "in_path = os.path.join(base_path, 'sparse_txt')\n",
    "out_path = os.path.join(base_path, 'poses')\n",
    "os.mkdir(out_path)\n",
    "\n",
    "poses = open(os.path.join(in_path, 'images.txt'), 'r')\n",
    "camera = open(os.path.join(in_path, 'cameras.txt'), 'r')\n",
    "\n",
    "lines_cam = camera.readlines()\n",
    "intrinsics = lines_cam[3].split()\n",
    "fp = intrinsics[4]\n",
    "cx, cy = intrinsics[5], intrinsics[6]\n",
    "intr = np.eye(3)\n",
    "intr[0, 0] = fp\n",
    "intr[1, 1] = fp\n",
    "intr[0, 2] = cx\n",
    "intr[1, 2] = cy\n",
    "np.savetxt(os.path.join(base_path, 'intrinsics.txt'), intr)\n",
    "\n",
    "lines_poses = poses.readlines()\n",
    "for i in trange(4, len(lines_poses)):\n",
    "    if i % 2 == 0:\n",
    "        x = lines_poses[i].split()\n",
    "        QW = x[1]\n",
    "        QX = x[2]\n",
    "        QY = x[3]\n",
    "        QZ = x[4]\n",
    "        TX = x[5]\n",
    "        TY = x[6]\n",
    "        TZ = x[7]\n",
    "        fname = x[9].replace('jpg', 'txt')\n",
    "        r = R.from_quat([QX, QY, QZ, QW]).as_matrix()\n",
    "        t = np.array([TX, TY, TZ]).astype('float')\n",
    "        cam_to_world = np.eye(4)\n",
    "        cam_to_world[:3,:3] = r.T\n",
    "        cam_to_world[:3,3] = np.matmul(-r.T, t)\n",
    "        np.savetxt(os.path.join(out_path, fname), cam_to_world)"
   ]
  },
  {
   "cell_type": "code",
   "execution_count": null,
   "id": "therapeutic-hostel",
   "metadata": {},
   "outputs": [],
   "source": []
  }
 ],
 "metadata": {
  "kernelspec": {
   "display_name": "Python 3",
   "language": "python",
   "name": "python3"
  },
  "language_info": {
   "codemirror_mode": {
    "name": "ipython",
    "version": 3
   },
   "file_extension": ".py",
   "mimetype": "text/x-python",
   "name": "python",
   "nbconvert_exporter": "python",
   "pygments_lexer": "ipython3",
   "version": "3.9.4"
  }
 },
 "nbformat": 4,
 "nbformat_minor": 5
}

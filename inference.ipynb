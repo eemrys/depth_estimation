{
 "cells": [
  {
   "cell_type": "code",
   "execution_count": 1,
   "metadata": {},
   "outputs": [],
   "source": [
    "import os\n",
    "import cv2\n",
    "import torch\n",
    "import torch.nn as nn\n",
    "import matplotlib.pyplot as plt\n",
    "from tqdm import tqdm\n",
    "from PIL import Image\n",
    "from utils import inv2depth, transform, transform_midas\n",
    "from depth_resnet import DepthResNet"
   ]
  },
  {
   "cell_type": "code",
   "execution_count": 2,
   "metadata": {},
   "outputs": [],
   "source": [
    "basedir = 'datasets/3rdfloor'"
   ]
  },
  {
   "cell_type": "code",
   "execution_count": 3,
   "metadata": {},
   "outputs": [],
   "source": [
    "os.environ['KMP_DUPLICATE_LIB_OK']='True'\n",
    "device = torch.device('cpu')"
   ]
  },
  {
   "cell_type": "code",
   "execution_count": null,
   "metadata": {},
   "outputs": [],
   "source": [
    "# torch.cuda.empty_cache()\n",
    "# device = torch.device('cuda')"
   ]
  },
  {
   "cell_type": "code",
   "execution_count": 4,
   "metadata": {},
   "outputs": [
    {
     "name": "stderr",
     "output_type": "stream",
     "text": [
      "Downloading: \"https://github.com/intel-isl/MiDaS/archive/master.zip\" to /Users/blob/.cache/torch/hub/master.zip\n"
     ]
    },
    {
     "name": "stdout",
     "output_type": "stream",
     "text": [
      "Loading weights:  None\n"
     ]
    },
    {
     "name": "stderr",
     "output_type": "stream",
     "text": [
      "Downloading: \"https://github.com/facebookresearch/WSL-Images/archive/master.zip\" to /Users/blob/.cache/torch/hub/master.zip\n",
      "Downloading: \"https://download.pytorch.org/models/ig_resnext101_32x8-c38310e5.pth\" to /Users/blob/.cache/torch/hub/checkpoints/ig_resnext101_32x8-c38310e5.pth\n"
     ]
    },
    {
     "data": {
      "application/vnd.jupyter.widget-view+json": {
       "model_id": "597641e9ceb347e291e591e07c7491d0",
       "version_major": 2,
       "version_minor": 0
      },
      "text/plain": [
       "  0%|          | 0.00/340M [00:00<?, ?B/s]"
      ]
     },
     "metadata": {},
     "output_type": "display_data"
    },
    {
     "name": "stderr",
     "output_type": "stream",
     "text": [
      "Downloading: \"https://github.com/intel-isl/MiDaS/releases/download/v2_1/model-f6b98070.pt\" to /Users/blob/.cache/torch/hub/checkpoints/model-f6b98070.pt\n"
     ]
    },
    {
     "data": {
      "application/vnd.jupyter.widget-view+json": {
       "model_id": "5a5118a056a9473e9085a398d97f62a9",
       "version_major": 2,
       "version_minor": 0
      },
      "text/plain": [
       "  0%|          | 0.00/403M [00:00<?, ?B/s]"
      ]
     },
     "metadata": {},
     "output_type": "display_data"
    }
   ],
   "source": [
    "model = torch.hub.load(\"intel-isl/MiDaS\", \"MiDaS\")\n",
    "tr = transform_midas()"
   ]
  },
  {
   "cell_type": "code",
   "execution_count": 4,
   "metadata": {},
   "outputs": [],
   "source": [
    "# model = DepthResNet(version='50pt')\n",
    "# checkpoint_path = \"checkpoint_3rdfloor.pth\"\n",
    "# checkpoint = torch.load(checkpoint_path)\n",
    "# state_dict = checkpoint['model']\n",
    "# model.load_state_dict(state_dict)\n",
    "# tr = transform()"
   ]
  },
  {
   "cell_type": "code",
   "execution_count": 5,
   "metadata": {},
   "outputs": [],
   "source": [
    "model = model.to(device)\n",
    "model.eval()\n",
    "image_dir = os.path.join(basedir, 'images')\n",
    "result_dir = os.path.join(basedir, 'depth_midas')\n",
    "os.mkdir(result_dir)"
   ]
  },
  {
   "cell_type": "code",
   "execution_count": 6,
   "metadata": {},
   "outputs": [
    {
     "name": "stderr",
     "output_type": "stream",
     "text": [
      "100%|██████████| 825/825 [1:16:49<00:00,  5.59s/it]\n"
     ]
    }
   ],
   "source": [
    "# write midas\n",
    "for imname in tqdm(os.listdir(image_dir)):\n",
    "    img = Image.open(os.path.join(image_dir, imname))\n",
    "    W, H = img.size\n",
    "    img_tfm = tr(img).to(device)\n",
    "    with torch.no_grad():\n",
    "        inv_depth = model(img_tfm.unsqueeze(0))\n",
    "    inv_depth = nn.functional.interpolate(inv_depth.unsqueeze(1),\n",
    "                                          (H, W), mode='bilinear', align_corners=True)\n",
    "    inv_depth = inv_depth.squeeze().cpu().numpy()\n",
    "    depth_path = os.path.join(result_dir, imname.replace('.jpg', '.png'))\n",
    "    cv2.imwrite(depth_path, inv_depth.astype('uint16'))"
   ]
  },
  {
   "cell_type": "code",
   "execution_count": 7,
   "metadata": {},
   "outputs": [
    {
     "name": "stderr",
     "output_type": "stream",
     "text": [
      "100%|██████████| 825/825 [01:17<00:00, 10.59it/s]\n"
     ]
    }
   ],
   "source": [
    "# write mine\n",
    "# for imname in tqdm(os.listdir(image_dir)):\n",
    "#     img = Image.open(os.path.join(image_dir, imname))\n",
    "#     W, H = img.size\n",
    "#     img_tfm = tr(img).to(device)\n",
    "#     with torch.no_grad():\n",
    "#         inv_depth = model(img_tfm.unsqueeze(0))\n",
    "#     depth = inv2depth(inv_depth)\n",
    "#     depth = nn.functional.interpolate(depth, (H, W), mode='bilinear', align_corners=True)\n",
    "#     depth = depth.squeeze().cpu().numpy()\n",
    "#     depth_path = os.path.join(result_dir, imname.replace('.jpg', '.png'))\n",
    "#     cv2.imwrite(depth_path, (depth * 1000).astype('uint16'))"
   ]
  }
 ],
 "metadata": {
  "kernelspec": {
   "display_name": "pytorch_x86",
   "language": "python",
   "name": "pytorch_x86"
  },
  "language_info": {
   "codemirror_mode": {
    "name": "ipython",
    "version": 3
   },
   "file_extension": ".py",
   "mimetype": "text/x-python",
   "name": "python",
   "nbconvert_exporter": "python",
   "pygments_lexer": "ipython3",
   "version": "3.8.10"
  }
 },
 "nbformat": 4,
 "nbformat_minor": 4
}

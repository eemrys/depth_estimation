{
 "cells": [
  {
   "cell_type": "code",
   "execution_count": 1,
   "metadata": {},
   "outputs": [],
   "source": [
    "import numpy as np\n",
    "import cv2\n",
    "import os\n",
    "import matplotlib.pyplot as plt\n",
    "import open3d as o3d\n",
    "from utils import read_files"
   ]
  },
  {
   "cell_type": "code",
   "execution_count": 2,
   "metadata": {},
   "outputs": [],
   "source": [
    "basedir = 'datasets/3rdfloor'\n",
    "depth_dir = os.path.join(basedir, 'depth')\n",
    "depth_midas_dir = os.path.join(basedir, 'depth_midas')\n",
    "image_dir = os.path.join(basedir, 'images')\n",
    "imnames = [\n",
    " 'frame000702.jpg',\n",
    " 'frame000609.jpg',\n",
    " 'frame000144.jpg',\n",
    " 'frame001101.jpg',\n",
    " 'frame001446.jpg']"
   ]
  },
  {
   "cell_type": "code",
   "execution_count": 20,
   "metadata": {},
   "outputs": [
    {
     "ename": "IndexError",
     "evalue": "list index out of range",
     "output_type": "error",
     "traceback": [
      "\u001b[0;31m---------------------------------------------------------------------------\u001b[0m",
      "\u001b[0;31mIndexError\u001b[0m                                Traceback (most recent call last)",
      "\u001b[0;32m<ipython-input-20-9c74bce1bd39>\u001b[0m in \u001b[0;36m<module>\u001b[0;34m\u001b[0m\n\u001b[1;32m      1\u001b[0m \u001b[0mi\u001b[0m\u001b[0;34m+=\u001b[0m\u001b[0;36m1\u001b[0m\u001b[0;34m\u001b[0m\u001b[0;34m\u001b[0m\u001b[0m\n\u001b[0;32m----> 2\u001b[0;31m \u001b[0mimname\u001b[0m \u001b[0;34m=\u001b[0m \u001b[0mimnames\u001b[0m\u001b[0;34m[\u001b[0m\u001b[0mi\u001b[0m\u001b[0;34m]\u001b[0m\u001b[0;34m\u001b[0m\u001b[0;34m\u001b[0m\u001b[0m\n\u001b[0m\u001b[1;32m      3\u001b[0m \u001b[0mimage\u001b[0m \u001b[0;34m=\u001b[0m \u001b[0mcv2\u001b[0m\u001b[0;34m.\u001b[0m\u001b[0mimread\u001b[0m\u001b[0;34m(\u001b[0m\u001b[0mos\u001b[0m\u001b[0;34m.\u001b[0m\u001b[0mpath\u001b[0m\u001b[0;34m.\u001b[0m\u001b[0mjoin\u001b[0m\u001b[0;34m(\u001b[0m\u001b[0mimage_dir\u001b[0m\u001b[0;34m,\u001b[0m \u001b[0mimname\u001b[0m\u001b[0;34m)\u001b[0m\u001b[0;34m)\u001b[0m\u001b[0;34m\u001b[0m\u001b[0;34m\u001b[0m\u001b[0m\n\u001b[1;32m      4\u001b[0m \u001b[0mimage\u001b[0m \u001b[0;34m=\u001b[0m \u001b[0mcv2\u001b[0m\u001b[0;34m.\u001b[0m\u001b[0mcvtColor\u001b[0m\u001b[0;34m(\u001b[0m\u001b[0mimage\u001b[0m\u001b[0;34m,\u001b[0m \u001b[0mcv2\u001b[0m\u001b[0;34m.\u001b[0m\u001b[0mCOLOR_BGR2RGB\u001b[0m\u001b[0;34m)\u001b[0m\u001b[0;34m\u001b[0m\u001b[0;34m\u001b[0m\u001b[0m\n\u001b[1;32m      5\u001b[0m \u001b[0;34m\u001b[0m\u001b[0m\n",
      "\u001b[0;31mIndexError\u001b[0m: list index out of range"
     ]
    }
   ],
   "source": [
    "i+=1\n",
    "imname = imnames[i]\n",
    "image = cv2.imread(os.path.join(image_dir, imname))\n",
    "image = cv2.cvtColor(image, cv2.COLOR_BGR2RGB)\n",
    "\n",
    "# mine\n",
    "depth = cv2.imread(os.path.join(depth_dir,\n",
    "                                imname.replace('.jpg', '.png')), -1) / 1000.\n",
    "# midas\n",
    "inv_depth = cv2.imread(os.path.join(depth_midas_dir,\n",
    "                                imname.replace('.jpg', '.png')), -1)\n",
    "depth_midas = 1. / inv_depth\n",
    "\n",
    "# plt.rcParams[\"figure.figsize\"] = (12,12)\n",
    "# plt.subplot(1, 3, 1)\n",
    "# plt.imshow(image)\n",
    "# plt.subplot(1, 3, 2)\n",
    "# plt.imshow(depth)\n",
    "# plt.subplot(1, 3, 3)\n",
    "# plt.imshow(depth_midas)"
   ]
  },
  {
   "cell_type": "code",
   "execution_count": 19,
   "metadata": {},
   "outputs": [
    {
     "name": "stdout",
     "output_type": "stream",
     "text": [
      "\u001b[1;33m[Open3D WARNING] GLFW Error: Cocoa: Failed to find service port for display\u001b[0;m\n"
     ]
    }
   ],
   "source": [
    "image_o3d = o3d.geometry.Image(image)\n",
    "\n",
    "intrinsics = o3d.camera.PinholeCameraIntrinsic(depth.shape[1],\n",
    "                                               depth.shape[0], \n",
    "                                               1666.82,\n",
    "                                               1666.82,\n",
    "                                               depth.shape[1] / 2,\n",
    "                                               depth.shape[0] / 2)\n",
    "########\n",
    "depth_o3d = o3d.geometry.Image(depth.astype(np.float32))\n",
    "rgbd = o3d.geometry.RGBDImage.create_from_color_and_depth(image_o3d,\n",
    "                                                          depth_o3d, \n",
    "                                                          convert_rgb_to_intensity=False)        \n",
    "pcd = o3d.geometry.PointCloud.create_from_rgbd_image(rgbd, intrinsics)\n",
    "########\n",
    "depth_o3d2 = o3d.geometry.Image((depth_midas*5500).astype(np.float32))\n",
    "rgbd2 = o3d.geometry.RGBDImage.create_from_color_and_depth(image_o3d,\n",
    "                                                          depth_o3d2, \n",
    "                                                          convert_rgb_to_intensity=False)        \n",
    "pcd2 = o3d.geometry.PointCloud.create_from_rgbd_image(rgbd2, intrinsics)\n",
    "pcd2.translate([0.004,0,0])\n",
    "o3d.visualization.draw_geometries([pcd, pcd2])"
   ]
  },
  {
   "cell_type": "markdown",
   "metadata": {},
   "source": [
    "### visualize trajectory"
   ]
  },
  {
   "cell_type": "code",
   "execution_count": 9,
   "metadata": {},
   "outputs": [
    {
     "name": "stdout",
     "output_type": "stream",
     "text": [
      "\u001b[1;33m[Open3D WARNING] GLFW Error: Cocoa: Failed to find service port for display\u001b[0;m\n"
     ]
    }
   ],
   "source": [
    "poses_dir = 'datasets/3rdfloor/poses'\n",
    "poses = sorted(read_files(poses_dir, ext=('.txt'))[poses_dir])\n",
    "\n",
    "coords = []\n",
    "\n",
    "for i in range(len(poses)):\n",
    "    if i%6==0:\n",
    "        mtx = np.genfromtxt(os.path.join(poses_dir, poses[i]), delimiter=' ')\n",
    "        coord = o3d.geometry.TriangleMesh.create_coordinate_frame()\n",
    "        coord.transform(mtx)\n",
    "        coords.append(coord)\n",
    "\n",
    "o3d.visualization.draw_geometries(coords)"
   ]
  },
  {
   "cell_type": "code",
   "execution_count": null,
   "metadata": {},
   "outputs": [],
   "source": []
  }
 ],
 "metadata": {
  "kernelspec": {
   "display_name": "pytorch_x86",
   "language": "python",
   "name": "pytorch_x86"
  },
  "language_info": {
   "codemirror_mode": {
    "name": "ipython",
    "version": 3
   },
   "file_extension": ".py",
   "mimetype": "text/x-python",
   "name": "python",
   "nbconvert_exporter": "python",
   "pygments_lexer": "ipython3",
   "version": "3.8.10"
  }
 },
 "nbformat": 4,
 "nbformat_minor": 4
}
